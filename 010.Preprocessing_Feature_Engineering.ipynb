{
 "cells": [
  {
   "cell_type": "markdown",
   "metadata": {},
   "source": [
    "# Preprocessing\n",
    "I'll take a look at text data and turn it into quantifiable measures."
   ]
  },
  {
   "cell_type": "markdown",
   "metadata": {},
   "source": [
    "From randomly sampled tweets, I decided to do at least the following: \n",
    "\n",
    "1. find any links and remove them (e.g. bit.ly/g03MZB)\n",
    "2. `@mention`, `{link}`\n",
    "Create a feature that shows how many of these exists, but remove them from tokenization.\n",
    "3. `[\\w+]` seems to be emoji or pics/videos. keep them as is (with brackets) \n",
    "3. word after # should be treated as a separate word than the same word without #, also count how many tags\n",
    "4. `?&quot;`, `$amp;`, `�` should be removed.\n",
    "5. ! and ? might be important to keep. count how many. "
   ]
  },
  {
   "cell_type": "code",
   "execution_count": 4,
   "metadata": {},
   "outputs": [],
   "source": [
    "import pandas as pd\n",
    "import numpy as np\n",
    "import re\n",
    "import nltk\n",
    "from nltk.corpus import stopwords\n",
    "from nltk.tokenize import word_tokenize\n",
    "\n",
    "import pickle"
   ]
  },
  {
   "cell_type": "markdown",
   "metadata": {},
   "source": [
    "## Import Data\n",
    "---"
   ]
  },
  {
   "cell_type": "code",
   "execution_count": 5,
   "metadata": {},
   "outputs": [],
   "source": [
    "X_train = pd.read_csv('DATA/X_train.csv', index_col=0)\n",
    "X_val = pd.read_csv('DATA/X_val.csv', index_col=0)\n",
    "X_test = pd.read_csv('DATA/X_test.csv', index_col=0)\n",
    "y_train = pd.read_csv('DATA/y_train.csv', index_col = 0)"
   ]
  },
  {
   "cell_type": "markdown",
   "metadata": {},
   "source": [
    "## Preprocessing\n",
    "---"
   ]
  },
  {
   "cell_type": "markdown",
   "metadata": {},
   "source": [
    "### Capitalized\n",
    "Sometimes capitalized letters indicate stronger sentiment. Let's see proportionally what percent of characters are capitalized, before we make everything lowercase."
   ]
  },
  {
   "cell_type": "code",
   "execution_count": 6,
   "metadata": {},
   "outputs": [],
   "source": [
    "def count_upper(str_):\n",
    "    return sum([x.isupper() for x in str_])/len(str_)"
   ]
  },
  {
   "cell_type": "markdown",
   "metadata": {},
   "source": [
    "### Hyperlinks"
   ]
  },
  {
   "cell_type": "code",
   "execution_count": 7,
   "metadata": {},
   "outputs": [],
   "source": [
    "# find links and turn them into {link}\n",
    "def replace_links(str_):\n",
    "    p = '((http\\w*:\\/\\/)?(www\\.\\w+)?(\\w+\\.(com|co|ly|ch|org|net)+)(\\/\\w+)?)'\n",
    "    return re.sub(p, '{link}', str_)"
   ]
  },
  {
   "cell_type": "markdown",
   "metadata": {},
   "source": [
    "### Count \n",
    "Count how many mentions, tags, links, '!', '?', '.' happened"
   ]
  },
  {
   "cell_type": "code",
   "execution_count": 8,
   "metadata": {},
   "outputs": [],
   "source": [
    "# count how many times specific expression occurs.\n",
    "def count_exp(str_, exp):\n",
    "    p = re.compile(exp)\n",
    "    return len(p.findall(str_))"
   ]
  },
  {
   "cell_type": "markdown",
   "metadata": {},
   "source": [
    "### Remove HTML symbols"
   ]
  },
  {
   "cell_type": "code",
   "execution_count": 9,
   "metadata": {},
   "outputs": [],
   "source": [
    "# remove html symbol\n",
    "def remove_html(str_):\n",
    "    return re.sub(\"[^A-Za-z0-9 ]\\w+;\", ' ', str_)"
   ]
  },
  {
   "cell_type": "markdown",
   "metadata": {},
   "source": [
    "### Remove unnecessary punctuations\n",
    "(remove ones except #,[])"
   ]
  },
  {
   "cell_type": "code",
   "execution_count": 45,
   "metadata": {},
   "outputs": [],
   "source": [
    "# remove unnecessary punctuations \n",
    "import string\n",
    "punctuations = string.punctuation\n",
    "punctuations = punctuations + '�' + string.digits\n",
    "\n",
    "def remove_punctuations(str_, punctuations):\n",
    "    table_ = str.maketrans('', '', punctuations)\n",
    "    return str_.translate(table_)   "
   ]
  },
  {
   "cell_type": "markdown",
   "metadata": {},
   "source": [
    "### Change brand words\n",
    "We don't want overall distribution of customer satisfaction of each company to affect our analysis so I'll remove some of the specific words for popular brands. Let's change these words to 'gn' (remove when tokenized, but CFG. "
   ]
  },
  {
   "cell_type": "code",
   "execution_count": 46,
   "metadata": {},
   "outputs": [],
   "source": [
    "def change_brandwords(str_):\n",
    "    p = '''#?(iphone|ipad|sxsw|hcsm|google|apple|cisco|austin|\n",
    "    atari|intel|mac|pc|blackberry|android|linux|ubuntu)[a-z0-9]*'''\n",
    "    return re.sub(p, 'gn', str_)"
   ]
  },
  {
   "cell_type": "markdown",
   "metadata": {},
   "source": [
    "### Lemmatization\n",
    "Finally, lemmatizing the vocabularies. "
   ]
  },
  {
   "cell_type": "code",
   "execution_count": 47,
   "metadata": {},
   "outputs": [],
   "source": [
    "from nltk.stem import WordNetLemmatizer\n",
    "def lemmatize(str_):\n",
    "    wnl = WordNetLemmatizer()\n",
    "    return wnl.lemmatize(str_) "
   ]
  },
  {
   "cell_type": "markdown",
   "metadata": {},
   "source": [
    "### Stopwords\n",
    "Define stopwords. "
   ]
  },
  {
   "cell_type": "code",
   "execution_count": 48,
   "metadata": {},
   "outputs": [],
   "source": [
    "# stopwords\n",
    "sw = stopwords.words('english')\n",
    "sw += ['gn', 'gns', 'mention', 'link']"
   ]
  },
  {
   "cell_type": "markdown",
   "metadata": {},
   "source": [
    "### Putting them together"
   ]
  },
  {
   "cell_type": "code",
   "execution_count": 49,
   "metadata": {},
   "outputs": [],
   "source": [
    "def prepro_text(df0, punctuations, stopwords):\n",
    "    df = df0.copy()\n",
    "    df['upper_count'] = df.tweet.apply(lambda x: count_upper(x))\n",
    "    # only keep ascii characters\n",
    "    df['tweet'] = df.tweet.apply(lambda x: x.encode(\"ascii\", \"ignore\").decode())\n",
    "    df['tweet'] = df.tweet.apply(lambda x: x.lower())\n",
    "    df['tweet'] = df.tweet.apply(replace_links)\n",
    "    df['tweet'] = df.tweet.apply(lambda x: remove_html(x))    \n",
    "    df['tweet'] = df.tweet.apply(lambda x: change_brandwords(x))    \n",
    "    df['mention_count'] = df.tweet.apply(lambda x: count_exp(x, '@\\w+'))\n",
    "    df['link_count'] = df.tweet.apply(lambda x: count_exp(x, '{link}')) \n",
    "    df['tag_count'] = df.tweet.apply(lambda x: count_exp(x, '#\\w+'))\n",
    "    df['exclam_count'] = df.tweet.apply(lambda x: count_exp(x, '!'))\n",
    "    df['quest_count'] = df.tweet.apply(lambda x: count_exp(x, '\\?'))\n",
    "    df['period_count'] = df.tweet.apply(lambda x: count_exp(x, '\\.'))\n",
    "    df['tag_count'] = df.tweet.apply(lambda x: count_exp(x, '#\\w+'))\n",
    "    df['tweet'] = df.tweet.apply(lambda x: remove_punctuations(x, punctuations))    \n",
    "    df['tweet'] = df.tweet.apply(lambda x: ' '.join([lemmatize(w) for w in x.split() if (len(w) > 1) & (w not in stopwords)]))\n",
    "    return df"
   ]
  },
  {
   "cell_type": "code",
   "execution_count": 50,
   "metadata": {},
   "outputs": [],
   "source": [
    "X_train_pp = prepro_text(X_train, punctuations, sw)\n",
    "X_val_pp = prepro_text(X_val, punctuations, sw)\n",
    "X_test_pp = prepro_text(X_test, punctuations, sw)"
   ]
  },
  {
   "cell_type": "markdown",
   "metadata": {},
   "source": [
    "## Feature Selection\n",
    "I'll now purge some of the words that only happen once by combining them with the other most similar words using Spacy."
   ]
  },
  {
   "cell_type": "code",
   "execution_count": 51,
   "metadata": {},
   "outputs": [],
   "source": [
    "from itertools import chain"
   ]
  },
  {
   "cell_type": "code",
   "execution_count": 52,
   "metadata": {},
   "outputs": [],
   "source": [
    "all_words = list(chain.from_iterable([x.split() for x in X_train_pp['tweet']]))"
   ]
  },
  {
   "cell_type": "code",
   "execution_count": 53,
   "metadata": {},
   "outputs": [
    {
     "data": {
      "text/plain": [
       "6474"
      ]
     },
     "execution_count": 53,
     "metadata": {},
     "output_type": "execute_result"
    }
   ],
   "source": [
    "n_vocab = len(set(all_words))\n",
    "n_vocab"
   ]
  },
  {
   "cell_type": "code",
   "execution_count": 54,
   "metadata": {},
   "outputs": [],
   "source": [
    "import spacy\n",
    "import en_core_web_lg\n",
    "from collections import Counter\n",
    "\n",
    "# loading the corpus \n",
    "nlp = en_core_web_lg.load()"
   ]
  },
  {
   "cell_type": "code",
   "execution_count": 57,
   "metadata": {},
   "outputs": [],
   "source": [
    "# for words that occur only once, find the next similar existing word\n",
    "def consolidate_words(textlist, thresh = .8):\n",
    "    '''\n",
    "    Takes a list of texts to run iteration\n",
    "    Change word that occurs only once to similar word in the text\n",
    "    Return consolidated list \n",
    "    '''\n",
    "    list_of_text = textlist.copy()\n",
    "    wordcounts = Counter(' '.join(list_of_text).split())    \n",
    "    words_once = [k for k, v in wordcounts.items() if v <= 3]\n",
    "    other_words = [k for k, v in wordcounts.items() if v > 3]\n",
    "    \n",
    "    tokens = nlp(' '.join(other_words))\n",
    "    replacement_dict = {}\n",
    "    for word in words_once:\n",
    "\n",
    "        word_token = nlp(word)\n",
    "        max_similarity = thresh\n",
    "\n",
    "        for tk in tokens:\n",
    "            # find the maximum similarity above threshold\n",
    "            sim_score = word_token.text, tk.text, word_token.similarity(tk)\n",
    "            if 1 > sim_score[2] > max_similarity:\n",
    "                replacement_dict[word] = sim_score[1]\n",
    "                max_similarity = sim_score[2]\n",
    "        try:\n",
    "            print(word, 'to', replacement_dict[word])\n",
    "        except KeyError:\n",
    "            continue\n",
    "    \n",
    "    return replacement_dict"
   ]
  },
  {
   "cell_type": "code",
   "execution_count": null,
   "metadata": {
    "scrolled": true
   },
   "outputs": [],
   "source": [
    "replacement_dict = consolidate_words(all_words)"
   ]
  },
  {
   "cell_type": "code",
   "execution_count": 59,
   "metadata": {},
   "outputs": [],
   "source": [
    "def replace_texts(input_texts, replacement_dict = replacement_dict):\n",
    "    list_texts = input_texts.copy()\n",
    "    new_texts = []\n",
    "    for text in list_texts:\n",
    "        tex = text.split()\n",
    "        for i, t in enumerate(tex):\n",
    "            if t in replacement_dict:\n",
    "                tex[i] = replacement_dict[t]\n",
    "        new_texts.append(' '.join([x for x in tex if len(x) > 1]))\n",
    "    return new_texts"
   ]
  },
  {
   "cell_type": "code",
   "execution_count": 60,
   "metadata": {},
   "outputs": [],
   "source": [
    "X_train_pp['tweet'] = replace_texts(X_train_pp['tweet'])\n",
    "X_val_pp['tweet'] = replace_texts(X_val_pp['tweet'])\n",
    "X_test_pp['tweet'] = replace_texts(X_test_pp['tweet'])"
   ]
  },
  {
   "cell_type": "markdown",
   "metadata": {},
   "source": [
    "## Export Pickles\n",
    "Export preprocessed data out as pickles"
   ]
  },
  {
   "cell_type": "code",
   "execution_count": 13,
   "metadata": {},
   "outputs": [],
   "source": [
    "#import os\n",
    "#os.mkdir('PKL')"
   ]
  },
  {
   "cell_type": "code",
   "execution_count": 61,
   "metadata": {},
   "outputs": [],
   "source": [
    "X_train_pp.to_pickle('PKL/X_train_fin.pkl')\n",
    "X_val_pp.to_pickle('PKL/X_val_fin.pkl')\n",
    "X_test_pp.to_pickle('PKL/X_test_fin.pkl')"
   ]
  },
  {
   "cell_type": "code",
   "execution_count": null,
   "metadata": {},
   "outputs": [],
   "source": []
  },
  {
   "cell_type": "markdown",
   "metadata": {},
   "source": [
    "## EDA\n",
    "---"
   ]
  },
  {
   "cell_type": "code",
   "execution_count": 62,
   "metadata": {},
   "outputs": [],
   "source": [
    "# combining with target \n",
    "train_pp = X_train_pp.join(y_train)"
   ]
  },
  {
   "cell_type": "markdown",
   "metadata": {},
   "source": [
    "### Tokenize \n"
   ]
  },
  {
   "cell_type": "code",
   "execution_count": 63,
   "metadata": {},
   "outputs": [],
   "source": [
    "# now tokenize and remove stopwords\n",
    "def tokenize(str_, stopwords):\n",
    "    return [x for x in word_tokenize(str_) if x not in stopwords]"
   ]
  },
  {
   "cell_type": "code",
   "execution_count": 64,
   "metadata": {},
   "outputs": [],
   "source": [
    "train_pp['tweet'] = train_pp.tweet.apply(lambda x: tokenize(x, sw))"
   ]
  },
  {
   "cell_type": "markdown",
   "metadata": {},
   "source": [
    "### Negative vs. Positve"
   ]
  },
  {
   "cell_type": "code",
   "execution_count": 65,
   "metadata": {
    "scrolled": true
   },
   "outputs": [
    {
     "data": {
      "text/plain": [
       "No emotion toward brand or product    2651\n",
       "Positive emotion                      1545\n",
       "Negative emotion                       292\n",
       "Name: sentiment, dtype: int64"
      ]
     },
     "execution_count": 65,
     "metadata": {},
     "output_type": "execute_result"
    }
   ],
   "source": [
    "train_pp.sentiment.value_counts()"
   ]
  },
  {
   "cell_type": "code",
   "execution_count": 76,
   "metadata": {},
   "outputs": [],
   "source": [
    "neg_texts = train_pp[train_pp.sentiment == 'Negative emotion']['tweet']\n",
    "pos_texts = train_pp[train_pp.sentiment == 'Positive emotion']['tweet']\n",
    "neu_texts = train_pp[train_pp.sentiment == 'No emotion toward brand or product']['tweet']"
   ]
  },
  {
   "cell_type": "code",
   "execution_count": 77,
   "metadata": {},
   "outputs": [],
   "source": [
    "neg_text = np.sum(neg_texts)\n",
    "pos_text = np.sum(pos_texts)\n",
    "neu_text = np.sum(neu_texts)"
   ]
  },
  {
   "cell_type": "code",
   "execution_count": 67,
   "metadata": {},
   "outputs": [],
   "source": [
    "from collections import Counter\n",
    "import matplotlib.pyplot as plt\n",
    "plt.style.use('fivethirtyeight')\n",
    "%matplotlib inline"
   ]
  },
  {
   "cell_type": "code",
   "execution_count": 68,
   "metadata": {},
   "outputs": [],
   "source": [
    "top30_neg = dict(Counter(neg_text).most_common(30))\n",
    "top30_pos = dict(Counter(pos_text).most_common(30))"
   ]
  },
  {
   "cell_type": "code",
   "execution_count": 69,
   "metadata": {},
   "outputs": [
    {
     "data": {
      "image/png": "[encoded data removed]",
      "text/plain": [
       "<Figure size 432x288 with 1 Axes>"
      ]
     },
     "metadata": {
      "needs_background": "light"
     },
     "output_type": "display_data"
    },
    {
     "data": {
      "image/png": "[encoded data removed]",
      "text/plain": [
       "<Figure size 432x288 with 1 Axes>"
      ]
     },
     "metadata": {
      "needs_background": "light"
     },
     "output_type": "display_data"
    }
   ],
   "source": [
    "plt.bar(top30_neg.keys(), top30_neg.values())\n",
    "plt.xticks(rotation = 90)\n",
    "plt.title('negative emotion top 30 frequent words')\n",
    "plt.show()\n",
    "\n",
    "plt.bar(top30_pos.keys(), top30_pos.values())\n",
    "plt.xticks(rotation = 90)\n",
    "plt.title('positive emotion top 30 frequent words')\n",
    "plt.show()"
   ]
  },
  {
   "cell_type": "code",
   "execution_count": 71,
   "metadata": {},
   "outputs": [],
   "source": [
    "from sklearn.feature_extraction.text import TfidfVectorizer"
   ]
  },
  {
   "cell_type": "code",
   "execution_count": 80,
   "metadata": {},
   "outputs": [],
   "source": [
    "neg_texts = ' '.join(neg_text)\n",
    "pos_texts = ' '.join(pos_text)\n",
    "neu_texts = ' '.join(neu_text)"
   ]
  },
  {
   "cell_type": "code",
   "execution_count": 84,
   "metadata": {},
   "outputs": [],
   "source": [
    "tfv = TfidfVectorizer(ngram_range = (1, 1), min_df = 2)\n",
    "tf_set = tfv.fit_transform([neg_texts, pos_texts, neu_texts])\n",
    "tf_df = pd.DataFrame(tf_set.todense(), columns = tfv.get_feature_names())"
   ]
  },
  {
   "cell_type": "code",
   "execution_count": 89,
   "metadata": {},
   "outputs": [],
   "source": [
    "neg_top20 = tf_df.iloc[0,:].sort_values(ascending = False)[0:20]\n",
    "pos_top20 = tf_df.iloc[1,:].sort_values(ascending = False)[0:20]\n",
    "neu_top20 = tf_df.iloc[2,:].sort_values(ascending = False)[0:20]"
   ]
  },
  {
   "cell_type": "code",
   "execution_count": null,
   "metadata": {},
   "outputs": [],
   "source": [
    "plt.bar(top30_pos.keys(), top30_pos.values())\n",
    "plt.xticks(rotation = 90)\n",
    "plt.title('positive emotion top 30 frequent words')\n",
    "plt.show()"
   ]
  },
  {
   "cell_type": "markdown",
   "metadata": {},
   "source": [
    "### Average Word Vectors"
   ]
  },
  {
   "cell_type": "code",
   "execution_count": 23,
   "metadata": {},
   "outputs": [],
   "source": [
    "from gensim.models import word2vec"
   ]
  },
  {
   "cell_type": "code",
   "execution_count": 24,
   "metadata": {},
   "outputs": [],
   "source": [
    "# building GloVe dictionary\n",
    "glove_path = '/Users/stereopickles/Documents/GloVe/glove.twitter.27B/glove.twitter.27B.50d.txt'\n",
    "glove_path_pc = 'D:\\Projects\\GloVe_Twitter\\glove.twitter.27B.50d.txt'\n",
    "glove_dict = {}\n",
    "with open(glove_path_pc, 'r', encoding = 'utf-8') as f:\n",
    "    for line in f:\n",
    "        vals = line.split(' ')\n",
    "        glove_dict[vals[0]] = np.asarray(vals[1:], dtype = 'float32')"
   ]
  },
  {
   "cell_type": "code",
   "execution_count": null,
   "metadata": {
    "scrolled": true
   },
   "outputs": [],
   "source": [
    "X_train_tweet = X_train_fin.tweet_df.apply(lambda x: tokenize(x, sw))\n",
    "X_val_tweet = X_val_fin.tweet_df.apply(lambda x: tokenize(x, sw))\n",
    "X_test_tweet = X_test_fin.tweet_df.apply(lambda x: tokenize(x, sw))"
   ]
  },
  {
   "cell_type": "code",
   "execution_count": null,
   "metadata": {},
   "outputs": [],
   "source": [
    "# calculate the average word vector\n",
    "def get_mean_vector(list_):\n",
    "    veclist = [glove_dict[x] for x in list_ if x in glove_dict]\n",
    "    if veclist: return np.mean(veclist)\n",
    "    else: return 0"
   ]
  },
  {
   "cell_type": "code",
   "execution_count": null,
   "metadata": {},
   "outputs": [],
   "source": [
    "X_train_mean_vec = X_train_tweet.apply(lambda x: get_mean_vector(x))\n",
    "X_val_mean_vec = X_val_tweet.apply(lambda x: get_mean_vector(x))\n",
    "X_test_mean_vec = X_test_tweet.apply(lambda x: get_mean_vector(x))"
   ]
  },
  {
   "cell_type": "code",
   "execution_count": null,
   "metadata": {},
   "outputs": [],
   "source": [
    "X_train_fin['mean_vec'] = X_train_mean_vec\n",
    "X_val_fin['mean_vec'] = X_val_mean_vec\n",
    "X_test_fin['mean_vec'] = X_test_mean_vec"
   ]
  },
  {
   "cell_type": "code",
   "execution_count": null,
   "metadata": {},
   "outputs": [],
   "source": []
  }
 ],
 "metadata": {
  "kernelspec": {
   "display_name": "Python 3",
   "language": "python",
   "name": "python3"
  },
  "language_info": {
   "codemirror_mode": {
    "name": "ipython",
    "version": 3
   },
   "file_extension": ".py",
   "mimetype": "text/x-python",
   "name": "python",
   "nbconvert_exporter": "python",
   "pygments_lexer": "ipython3",
   "version": "3.8.5"
  }
 },
 "nbformat": 4,
 "nbformat_minor": 2
}
