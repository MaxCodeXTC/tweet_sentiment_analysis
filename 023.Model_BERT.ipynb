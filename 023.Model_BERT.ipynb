{
 "cells": [
  {
   "cell_type": "markdown",
   "metadata": {},
   "source": [
    "# BERT\n",
    "\n",
    "In this notebook, I will use Google's BERT (Bidrectional Encoder Representations from Transformers), which uses the attention. I'll try use PyTorch instead of Tensorflow."
   ]
  },
  {
   "cell_type": "code",
   "execution_count": 34,
   "metadata": {},
   "outputs": [],
   "source": [
    "import pandas as pd\n",
    "import numpy as np\n",
    "\n",
    "import torch\n",
    "from torch.utils.data import *\n",
    "\n",
    "from transformers import BertTokenizer, BertForSequenceClassification, AdamW\n",
    "\n",
    "#from pytorch_pretrained_bert import BertTokenizer, BertConfig\n",
    "#from pytorch_pretrained_bert import BertAdam, BertForSequenceClassification"
   ]
  },
  {
   "cell_type": "code",
   "execution_count": 20,
   "metadata": {},
   "outputs": [],
   "source": [
    "X_train = pd.read_pickle('PKL/X_train_fin.pkl')\n",
    "X_val = pd.read_pickle('PKL/X_val_fin.pkl')\n",
    "y_train = pd.read_csv('DATA/y_train.csv', index_col=0)\n",
    "y_val = pd.read_csv('DATA/y_val.csv', index_col=0)"
   ]
  },
  {
   "cell_type": "code",
   "execution_count": 21,
   "metadata": {},
   "outputs": [],
   "source": [
    "X_train = X_train['tweet']\n",
    "X_val = X_val['tweet']"
   ]
  },
  {
   "cell_type": "code",
   "execution_count": 22,
   "metadata": {},
   "outputs": [],
   "source": [
    "y_train = y_train['sentiment']\n",
    "y_val = y_val['sentiment']"
   ]
  },
  {
   "cell_type": "markdown",
   "metadata": {},
   "source": [
    "## Preprocess\n",
    "Turning texts into tokens"
   ]
  },
  {
   "cell_type": "code",
   "execution_count": 23,
   "metadata": {},
   "outputs": [],
   "source": [
    "tokenizer = BertTokenizer.from_pretrained('bert-base-uncased', from_pt = True)"
   ]
  },
  {
   "cell_type": "markdown",
   "metadata": {},
   "source": [
    "add paddings to ids"
   ]
  },
  {
   "cell_type": "code",
   "execution_count": 24,
   "metadata": {},
   "outputs": [],
   "source": [
    "X_tr_ids = tokenizer.batch_encode_plus(X_train, padding = True,\n",
    "                                       return_token_type_ids=False,\n",
    "                                      return_tensors = 'pt', \n",
    "                                      max_length = 30, \n",
    "                                      pad_to_max_length = True)"
   ]
  },
  {
   "cell_type": "code",
   "execution_count": 25,
   "metadata": {},
   "outputs": [],
   "source": [
    "X_val_ids = tokenizer.batch_encode_plus(X_val, padding = True,\n",
    "                                       return_token_type_ids=False,\n",
    "                                      return_tensors = 'pt', \n",
    "                                      max_length = 30, \n",
    "                                      pad_to_max_length = True)"
   ]
  },
  {
   "cell_type": "markdown",
   "metadata": {},
   "source": [
    "Converting y_values"
   ]
  },
  {
   "cell_type": "code",
   "execution_count": 26,
   "metadata": {},
   "outputs": [],
   "source": [
    "classes_ind = dict(zip(set(y_train), range(3)))\n",
    "y_train = torch.tensor([classes_ind[y] for y in y_train])\n",
    "y_val = torch.tensor([classes_ind[y] for y in y_val])"
   ]
  },
  {
   "cell_type": "markdown",
   "metadata": {},
   "source": [
    "### Creating the tensor datasets for PyTorch\n",
    "Not we have the tensors. Let's create the dataloaders."
   ]
  },
  {
   "cell_type": "code",
   "execution_count": 28,
   "metadata": {},
   "outputs": [],
   "source": [
    "X_train_set = TensorDataset(X_tr_ids['input_ids'], X_tr_ids['attention_mask'], y_train)\n",
    "tr_dataloader = DataLoader(X_train_set, sampler = RandomSampler(X_train_set), \n",
    "                          batch_size = 32)\n",
    "X_val_set = TensorDataset(X_val_ids['input_ids'], X_val_ids['attention_mask'], y_val)\n",
    "val_dataloader = DataLoader(X_val_set, sampler = RandomSampler(X_val_set), \n",
    "                          batch_size = 32)"
   ]
  },
  {
   "cell_type": "markdown",
   "metadata": {},
   "source": [
    "### Modeling\n",
    "Now time to fine tune"
   ]
  },
  {
   "cell_type": "code",
   "execution_count": null,
   "metadata": {},
   "outputs": [],
   "source": [
    "model = BertForSequenceClassification.from_pretrained(\"bert-base-uncased\", \n",
    "                                                      num_labels = 3)"
   ]
  },
  {
   "cell_type": "code",
   "execution_count": 36,
   "metadata": {},
   "outputs": [],
   "source": [
    "# parameters\n",
    "optimizer = AdamW(model.parameters())\n",
    "epochs = 4\n",
    "steps = len(tr_dataloader) * epochs"
   ]
  },
  {
   "cell_type": "code",
   "execution_count": null,
   "metadata": {},
   "outputs": [],
   "source": []
  }
 ],
 "metadata": {
  "kernelspec": {
   "display_name": "Python 3",
   "language": "python",
   "name": "python3"
  },
  "language_info": {
   "codemirror_mode": {
    "name": "ipython",
    "version": 3
   },
   "file_extension": ".py",
   "mimetype": "text/x-python",
   "name": "python",
   "nbconvert_exporter": "python",
   "pygments_lexer": "ipython3",
   "version": "3.7.4"
  }
 },
 "nbformat": 4,
 "nbformat_minor": 2
}
