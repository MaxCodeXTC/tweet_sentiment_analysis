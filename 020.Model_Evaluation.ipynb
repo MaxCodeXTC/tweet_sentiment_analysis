{
 "cells": [
  {
   "cell_type": "markdown",
   "metadata": {},
   "source": [
    "# Model Evaluation\n",
    "\n",
    "In this notebook, I will test different models to classify the tweets."
   ]
  },
  {
   "cell_type": "code",
   "execution_count": 163,
   "metadata": {},
   "outputs": [],
   "source": [
    "import pandas as pd\n",
    "import numpy as np\n",
    "import matplotlib.pyplot as plt\n",
    "%matplotlib inline\n",
    "\n",
    "import pickle\n",
    "\n",
    "from timeit import default_timer as timer"
   ]
  },
  {
   "cell_type": "code",
   "execution_count": 164,
   "metadata": {},
   "outputs": [],
   "source": [
    "import gc\n",
    "\n",
    "# remove unnecessary variables\n",
    "def clean_up(vars_):\n",
    "    for var in vars_:\n",
    "        del var \n",
    "    print(gc.collect())"
   ]
  },
  {
   "cell_type": "code",
   "execution_count": 165,
   "metadata": {},
   "outputs": [],
   "source": [
    "X_train = pd.read_pickle('PKL/X_train_fin.pkl')\n",
    "X_val = pd.read_pickle('PKL/X_val_fin.pkl')\n",
    "y_train = pd.read_csv('DATA/y_train.csv', index_col=0)\n",
    "y_val = pd.read_csv('DATA/y_val.csv', index_col=0)"
   ]
  },
  {
   "cell_type": "code",
   "execution_count": 166,
   "metadata": {},
   "outputs": [],
   "source": [
    "X_train_tweet = X_train['tweet_df']\n",
    "X_val_tweet = X_val['tweet_df']"
   ]
  },
  {
   "cell_type": "code",
   "execution_count": 167,
   "metadata": {},
   "outputs": [],
   "source": [
    "X_train = X_train.drop('tweet_df', axis = 1)\n",
    "X_val = X_val.drop('tweet_df', axis = 1)"
   ]
  },
  {
   "cell_type": "code",
   "execution_count": 168,
   "metadata": {},
   "outputs": [],
   "source": [
    "y_train = y_train['sentiment']\n",
    "y_val = y_val['sentiment']"
   ]
  },
  {
   "cell_type": "code",
   "execution_count": 169,
   "metadata": {},
   "outputs": [],
   "source": [
    "original_features = X_train.columns"
   ]
  },
  {
   "cell_type": "markdown",
   "metadata": {},
   "source": [
    "## Evaluation Metrics\n",
    "It is a multi-class classification problem with class imbalance. Since the goal of the project is to build a model that accurately classifies positive, negative or neutral sentiment than detecting any specific class, so I'll use accuracy as a measure. I'll also look at cohen's kappa score. "
   ]
  },
  {
   "cell_type": "code",
   "execution_count": 170,
   "metadata": {},
   "outputs": [],
   "source": [
    "from sklearn.metrics import accuracy_score, cohen_kappa_score\n",
    "scoreboard = {}\n",
    "def scoring(title, y_test, y_pred):\n",
    "    acc = accuracy_score(y_test, y_pred)\n",
    "    ck = cohen_kappa_score(y_test, y_pred)\n",
    "    scoreboard[title] = (round(acc, 4), round(ck, 4)) \n",
    "    return scoreboard"
   ]
  },
  {
   "cell_type": "markdown",
   "metadata": {},
   "source": [
    "## Class Imbalance\n",
    "Currently our dataset has a class imbalance issue. I'll first try to resolve this by oversampling using SMOTE."
   ]
  },
  {
   "cell_type": "code",
   "execution_count": 171,
   "metadata": {},
   "outputs": [],
   "source": [
    "from imblearn.over_sampling import SMOTE\n",
    "smote = SMOTE(n_jobs = -1, random_state=22)\n",
    "X_train, y_train = smote.fit_resample(X_train, y_train)"
   ]
  },
  {
   "cell_type": "code",
   "execution_count": 172,
   "metadata": {},
   "outputs": [
    {
     "data": {
      "text/plain": [
       "(7905, 2091)"
      ]
     },
     "execution_count": 172,
     "metadata": {},
     "output_type": "execute_result"
    }
   ],
   "source": [
    "X_train.shape"
   ]
  },
  {
   "cell_type": "code",
   "execution_count": 173,
   "metadata": {},
   "outputs": [
    {
     "data": {
      "text/plain": [
       "No emotion toward brand or product    2635\n",
       "Negative emotion                      2635\n",
       "Positive emotion                      2635\n",
       "Name: sentiment, dtype: int64"
      ]
     },
     "execution_count": 173,
     "metadata": {},
     "output_type": "execute_result"
    }
   ],
   "source": [
    "y_train.value_counts()"
   ]
  },
  {
   "cell_type": "markdown",
   "metadata": {},
   "source": [
    "## Standardization"
   ]
  },
  {
   "cell_type": "code",
   "execution_count": 174,
   "metadata": {},
   "outputs": [],
   "source": [
    "from sklearn.preprocessing import StandardScaler\n",
    "scaler = StandardScaler()\n",
    "X_train = scaler.fit_transform(X_train)\n",
    "X_val = scaler.transform(X_val)"
   ]
  },
  {
   "cell_type": "markdown",
   "metadata": {},
   "source": [
    "## Feature Selection\n",
    "Since we are a bit top heavy, let's remove some of them."
   ]
  },
  {
   "cell_type": "code",
   "execution_count": 181,
   "metadata": {},
   "outputs": [],
   "source": [
    "from sklearn.ensemble import ExtraTreesClassifier\n",
    "from sklearn.feature_selection import SelectFromModel\n",
    "\n",
    "etc = ExtraTreesClassifier(n_estimators = 100, n_jobs = 3, random_state = 23)\n",
    "etc = etc.fit(X_train, y_train)\n",
    "model = SelectFromModel(etc, prefit = True, threshold = 1e-4)"
   ]
  },
  {
   "cell_type": "code",
   "execution_count": 182,
   "metadata": {},
   "outputs": [],
   "source": [
    "X_train = model.transform(X_train)\n",
    "new_feats = original_features[model.get_support()]"
   ]
  },
  {
   "cell_type": "code",
   "execution_count": 183,
   "metadata": {},
   "outputs": [],
   "source": [
    "X_val = model.transform(X_val)"
   ]
  },
  {
   "cell_type": "markdown",
   "metadata": {},
   "source": [
    "## Baseline Model \n",
    "---\n",
    "First I'll run a baseline model using dummy classifier."
   ]
  },
  {
   "cell_type": "code",
   "execution_count": 184,
   "metadata": {},
   "outputs": [],
   "source": [
    "from sklearn.dummy import DummyClassifier"
   ]
  },
  {
   "cell_type": "code",
   "execution_count": 185,
   "metadata": {},
   "outputs": [
    {
     "name": "stdout",
     "output_type": "stream",
     "text": [
      "{'dummy': (0.3342, 0.0148)}\n",
      "Total Time Elapsed: 0.0164305000071181\n"
     ]
    }
   ],
   "source": [
    "start = timer()\n",
    "\n",
    "dummy_classifier = DummyClassifier(strategy='stratified')\n",
    "dummy_classifier.fit(X_train, y_train)\n",
    "y_pred = dummy_classifier.predict(X_val)\n",
    "\n",
    "end = timer()\n",
    "print(scoring('dummy', y_val, y_pred))\n",
    "\n",
    "print('Total Time Elapsed:', end - start)"
   ]
  },
  {
   "cell_type": "markdown",
   "metadata": {},
   "source": [
    "## Random Forest\n",
    "---\n"
   ]
  },
  {
   "cell_type": "code",
   "execution_count": 186,
   "metadata": {},
   "outputs": [
    {
     "name": "stdout",
     "output_type": "stream",
     "text": [
      "{'dummy': (0.3342, 0.0148), 'simple random forest': (0.6328, 0.2441)}\n",
      "Total Time Elapsed: 3.715095976003795\n"
     ]
    }
   ],
   "source": [
    "from sklearn.ensemble import RandomForestClassifier\n",
    "start = timer()\n",
    "\n",
    "rfc = RandomForestClassifier(n_jobs = -2, random_state=18)\n",
    "rfc.fit(X_train, y_train)\n",
    "y_pred = rfc.predict(X_val)\n",
    "\n",
    "end = timer()\n",
    "print(scoring('simple random forest', y_val, y_pred))\n",
    "\n",
    "print('Total Time Elapsed:', end - start)"
   ]
  },
  {
   "cell_type": "markdown",
   "metadata": {},
   "source": [
    "## SVM\n",
    "---"
   ]
  },
  {
   "cell_type": "code",
   "execution_count": 187,
   "metadata": {},
   "outputs": [
    {
     "name": "stdout",
     "output_type": "stream",
     "text": [
      "{'dummy': (0.3342, 0.0148), 'simple random forest': (0.6328, 0.2441), 'simple svm': (0.6266, 0.2333)}\n",
      "Total Time Elapsed: 145.24808685800235\n"
     ]
    }
   ],
   "source": [
    "from sklearn.svm import SVC\n",
    "\n",
    "start = timer()\n",
    "\n",
    "svc = SVC()\n",
    "svc.fit(X_train, y_train)\n",
    "y_pred = svc.predict(X_val)\n",
    "\n",
    "end = timer()\n",
    "print(scoring('simple svm', y_val, y_pred))\n",
    "\n",
    "print('Total Time Elapsed:', end - start)"
   ]
  },
  {
   "cell_type": "markdown",
   "metadata": {},
   "source": [
    "## XGBoost\n",
    "---"
   ]
  },
  {
   "cell_type": "code",
   "execution_count": 188,
   "metadata": {},
   "outputs": [],
   "source": [
    "import xgboost as xgb"
   ]
  },
  {
   "cell_type": "code",
   "execution_count": 190,
   "metadata": {},
   "outputs": [
    {
     "data": {
      "text/plain": [
       "XGBClassifier(eta=0.05, max_depth=10, n_jobs=3, objective='multi:softprob')"
      ]
     },
     "execution_count": 190,
     "metadata": {},
     "output_type": "execute_result"
    }
   ],
   "source": [
    "xgbc = xgb.XGBClassifier(eta = 0.05, max_depth = 10, objective = 'multi:softmax', n_jobs = 3)\n",
    "xgbc.fit(X_train, y_train)"
   ]
  },
  {
   "cell_type": "code",
   "execution_count": 220,
   "metadata": {},
   "outputs": [
    {
     "name": "stdout",
     "output_type": "stream",
     "text": [
      "{'dummy': (0.3342, 0.0148), 'simple random forest': (0.6328, 0.2441), 'simple svm': (0.6337, 0.2843), 'simple xgboost': (0.6337, 0.2843)}\n"
     ]
    }
   ],
   "source": [
    "y_pred = xgbc.predict(X_val)\n",
    "print(scoring('simple xgboost', y_val, y_pred))"
   ]
  },
  {
   "cell_type": "code",
   "execution_count": 222,
   "metadata": {},
   "outputs": [
    {
     "data": {
      "text/plain": [
       "{'dummy': (0.3342, 0.0148),\n",
       " 'simple random forest': (0.6328, 0.2441),\n",
       " 'simple svm': (0.6266, 0.2333),\n",
       " 'simple xgboost': (0.6337, 0.2843)}"
      ]
     },
     "execution_count": 222,
     "metadata": {},
     "output_type": "execute_result"
    }
   ],
   "source": [
    "scoreboard"
   ]
  },
  {
   "cell_type": "markdown",
   "metadata": {},
   "source": [
    "## LSTM\n",
    "---\n",
    "Let's try deep learning approach instead."
   ]
  },
  {
   "cell_type": "code",
   "execution_count": 238,
   "metadata": {},
   "outputs": [],
   "source": [
    "from tensorflow.keras.layers import LSTM, Input, Embedding, GlobalMaxPool1D, Dropout, Dense, SpatialDropout1D\n",
    "from tensorflow.keras.models import Sequential\n",
    "from tensorflow.keras.preprocessing.text import Tokenizer\n",
    "from tensorflow.keras.preprocessing.sequence import pad_sequences\n",
    "from tensorflow.keras.callbacks import EarlyStopping"
   ]
  },
  {
   "cell_type": "code",
   "execution_count": 224,
   "metadata": {},
   "outputs": [],
   "source": [
    "labels_set = pd.get_dummies(y_train)\n",
    "labels = labels_set.values"
   ]
  },
  {
   "cell_type": "code",
   "execution_count": 228,
   "metadata": {},
   "outputs": [],
   "source": [
    "tokenizer = Tokenizer(num_words = 5000)\n",
    "tokenizer.fit_on_texts(X_train_tweet)\n",
    "seq_X_train = tokenizer.texts_to_sequences(X_train_tweet)\n",
    "seq_X_train = pad_sequences(seq_X_train)"
   ]
  },
  {
   "cell_type": "code",
   "execution_count": 234,
   "metadata": {},
   "outputs": [
    {
     "data": {
      "text/plain": [
       "(4488, 31)"
      ]
     },
     "execution_count": 234,
     "metadata": {},
     "output_type": "execute_result"
    }
   ],
   "source": [
    "seq_X_train.shape"
   ]
  },
  {
   "cell_type": "code",
   "execution_count": 263,
   "metadata": {
    "scrolled": true
   },
   "outputs": [],
   "source": [
    "model = Sequential()\n",
    "model.add(Embedding(5000, 64, input_length = 31))\n",
    "model.add(LSTM(64, dropout = 0.5, recurrent_dropout = 0.5, return_sequences = True))\n",
    "model.add(GlobalMaxPool1D())\n",
    "model.add(Dropout(0.5))\n",
    "model.add(Dense(128, activation = 'relu'))\n",
    "model.add(Dropout(0.5))\n",
    "model.add(Dense(3, activation = 'softmax'))\n",
    "\n",
    "model.compile(optimizer = 'adam', \n",
    "             loss = 'categorical_crossentropy', \n",
    "             metrics = ['accuracy'])"
   ]
  },
  {
   "cell_type": "code",
   "execution_count": 264,
   "metadata": {
    "scrolled": true
   },
   "outputs": [
    {
     "name": "stdout",
     "output_type": "stream",
     "text": [
      "Epoch 1/100\n",
      "99/99 - 7s - loss: 0.8886 - accuracy: 0.5852 - val_loss: 0.8968 - val_accuracy: 0.5568\n",
      "Epoch 2/100\n",
      "99/99 - 4s - loss: 0.8560 - accuracy: 0.5992 - val_loss: 0.8924 - val_accuracy: 0.5568\n",
      "Epoch 3/100\n",
      "99/99 - 4s - loss: 0.8256 - accuracy: 0.6001 - val_loss: 0.8575 - val_accuracy: 0.5568\n",
      "Epoch 4/100\n",
      "99/99 - 4s - loss: 0.7511 - accuracy: 0.6266 - val_loss: 0.8747 - val_accuracy: 0.6088\n",
      "Epoch 5/100\n",
      "99/99 - 4s - loss: 0.6626 - accuracy: 0.6982 - val_loss: 0.8965 - val_accuracy: 0.6214\n",
      "Epoch 6/100\n",
      "99/99 - 4s - loss: 0.5700 - accuracy: 0.7650 - val_loss: 1.0005 - val_accuracy: 0.6192\n",
      "Epoch 7/100\n",
      "99/99 - 4s - loss: 0.4921 - accuracy: 0.8042 - val_loss: 1.0612 - val_accuracy: 0.6244\n",
      "Epoch 8/100\n",
      "Restoring model weights from the end of the best epoch.\n",
      "99/99 - 4s - loss: 0.4411 - accuracy: 0.8262 - val_loss: 1.3067 - val_accuracy: 0.6125\n",
      "Epoch 00008: early stopping\n",
      "Total Time Elapsed: 33.24105913200765\n"
     ]
    }
   ],
   "source": [
    "cb = EarlyStopping(monitor = 'val_loss', verbose = 1, patience = 5, restore_best_weights = True)\n",
    "\n",
    "start = timer()\n",
    "history = model.fit(seq_X_train, labels,\n",
    "                   epochs = 100, \n",
    "                   validation_split = 0.3, \n",
    "                   verbose = 2, \n",
    "                   callbacks = [cb], \n",
    "                   shuffle=True)\n",
    "\n",
    "end = timer()\n",
    "print('Total Time Elapsed:', end-start)"
   ]
  },
  {
   "cell_type": "code",
   "execution_count": 87,
   "metadata": {},
   "outputs": [],
   "source": [
    "#model.save('MODEL/LSTM_v1.h5')"
   ]
  },
  {
   "cell_type": "code",
   "execution_count": 258,
   "metadata": {},
   "outputs": [
    {
     "data": {
      "image/png": "[encoded data removed]",
      "text/plain": [
       "<Figure size 432x288 with 1 Axes>"
      ]
     },
     "metadata": {
      "needs_background": "light"
     },
     "output_type": "display_data"
    },
    {
     "data": {
      "image/png": "[encoded data removed]",
      "text/plain": [
       "<Figure size 432x288 with 1 Axes>"
      ]
     },
     "metadata": {
      "needs_background": "light"
     },
     "output_type": "display_data"
    }
   ],
   "source": [
    "# plot performance\n",
    "def plot_performance(hist):\n",
    "    hist_ = hist.history\n",
    "    epochs = hist.epoch\n",
    "\n",
    "    plt.plot(epochs, hist_['accuracy'], label='Training Accuracy')\n",
    "    plt.plot(epochs, hist_['val_accuracy'], label='Validation Accuracy')\n",
    "    plt.title('Training and validation accuracy')\n",
    "    plt.legend()\n",
    "    \n",
    "    plt.figure()\n",
    "    plt.plot(epochs, hist_['loss'], label='Training loss')\n",
    "    plt.plot(epochs, hist_['val_loss'], label='Validation loss')\n",
    "    plt.title('Training and validation loss')\n",
    "    plt.legend()\n",
    "    \n",
    "    plt.show()\n",
    "    \n",
    "plot_performance(model.history)"
   ]
  },
  {
   "cell_type": "code",
   "execution_count": 265,
   "metadata": {},
   "outputs": [],
   "source": [
    "from tensorflow.keras.layers import Conv1D, MaxPooling1D, Flatten"
   ]
  },
  {
   "cell_type": "code",
   "execution_count": 269,
   "metadata": {},
   "outputs": [],
   "source": [
    "model = Sequential()\n",
    "model.add(Embedding(5000, 64, input_length=31))\n",
    "model.add(Conv1D(filters=32, kernel_size=8, activation='relu'))\n",
    "model.add(MaxPooling1D(pool_size=2))\n",
    "model.add(Flatten())\n",
    "model.add(Dense(10, activation='relu'))\n",
    "model.add(Dense(3, activation='sigmoid'))\n",
    "\n",
    "\n",
    "model.compile(optimizer = 'adam', \n",
    "             loss = 'categorical_crossentropy', \n",
    "             metrics = ['accuracy'])"
   ]
  },
  {
   "cell_type": "code",
   "execution_count": 271,
   "metadata": {},
   "outputs": [
    {
     "name": "stdout",
     "output_type": "stream",
     "text": [
      "Epoch 1/100\n",
      "99/99 - 1s - loss: 0.8914 - accuracy: 0.5922 - val_loss: 0.8914 - val_accuracy: 0.5568\n",
      "Epoch 2/100\n",
      "99/99 - 0s - loss: 0.7970 - accuracy: 0.6030 - val_loss: 0.8551 - val_accuracy: 0.5598\n",
      "Epoch 3/100\n",
      "99/99 - 0s - loss: 0.6225 - accuracy: 0.7186 - val_loss: 0.9019 - val_accuracy: 0.6177\n",
      "Epoch 4/100\n",
      "99/99 - 0s - loss: 0.3745 - accuracy: 0.8532 - val_loss: 0.9811 - val_accuracy: 0.6169\n",
      "Epoch 5/100\n",
      "99/99 - 0s - loss: 0.2362 - accuracy: 0.8908 - val_loss: 1.0870 - val_accuracy: 0.6043\n",
      "Epoch 6/100\n",
      "99/99 - 0s - loss: 0.1754 - accuracy: 0.9089 - val_loss: 1.1844 - val_accuracy: 0.6110\n",
      "Epoch 7/100\n",
      "Restoring model weights from the end of the best epoch.\n",
      "99/99 - 0s - loss: 0.1366 - accuracy: 0.9147 - val_loss: 1.3034 - val_accuracy: 0.6088\n",
      "Epoch 00007: early stopping\n",
      "Total Time Elapsed: 4.129451858010725\n"
     ]
    }
   ],
   "source": [
    "cb = EarlyStopping(monitor = 'val_loss', verbose = 1, patience = 5, restore_best_weights = True)\n",
    "\n",
    "start = timer()\n",
    "history = model.fit(seq_X_train, labels,\n",
    "                   epochs = 100, \n",
    "                   validation_split = 0.3, \n",
    "                   verbose = 2, \n",
    "                   callbacks = [cb], \n",
    "                   shuffle=True)\n",
    "\n",
    "end = timer()\n",
    "print('Total Time Elapsed:', end-start)"
   ]
  },
  {
   "cell_type": "code",
   "execution_count": null,
   "metadata": {},
   "outputs": [],
   "source": [
    "# create a weight matrix for the Embedding layer from a loaded embedding\n",
    "def get_weight_matrix(embedding, vocab):\n",
    "    # total vocabulary size plus 0 for unknown words\n",
    "    vocab_size = len(vocab) + 1\n",
    "    # define weight matrix dimensions with all 0\n",
    "    weight_matrix = zeros((vocab_size, 100))\n",
    "    # step vocab, store vectors using the Tokenizer's integer mapping\n",
    "    for word, i in vocab.items():\n",
    "        vector = embedding.get(word)\n",
    "        if vector is not None:\n",
    "            weight_matrix[i] = vector\n",
    "    return weight_matrix"
   ]
  },
  {
   "cell_type": "code",
   "execution_count": null,
   "metadata": {},
   "outputs": [],
   "source": [
    "# load embedding from file\n",
    "raw_embedding = load_embedding('glove.6B.100d.txt')\n",
    "# get vectors in the right order\n",
    "embedding_vectors = get_weight_matrix(raw_embedding, tokenizer.word_index)\n",
    "# create the embedding layer\n",
    "embedding_layer = Embedding(vocab_size, 100, weights=[embedding_vectors], \n",
    "                            input_length=max_length, trainable=False)"
   ]
  },
  {
   "cell_type": "code",
   "execution_count": null,
   "metadata": {},
   "outputs": [],
   "source": [
    "# define model\n",
    "model = Sequential()\n",
    "model.add(embedding_layer)\n",
    "model.add(Conv1D(filters=128, kernel_size=5, activation='relu'))\n",
    "model.add(MaxPooling1D(pool_size=2))\n",
    "model.add(Flatten())\n",
    "model.add(Dense(1, activation='sigmoid'))\n",
    "print(model.summary())"
   ]
  }
 ],
 "metadata": {
  "kernelspec": {
   "display_name": "Python 3",
   "language": "python",
   "name": "python3"
  },
  "language_info": {
   "codemirror_mode": {
    "name": "ipython",
    "version": 3
   },
   "file_extension": ".py",
   "mimetype": "text/x-python",
   "name": "python",
   "nbconvert_exporter": "python",
   "pygments_lexer": "ipython3",
   "version": "3.7.4"
  }
 },
 "nbformat": 4,
 "nbformat_minor": 2
}
